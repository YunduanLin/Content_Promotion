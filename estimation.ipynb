{
 "cells": [
  {
   "cell_type": "code",
   "execution_count": 1,
   "metadata": {},
   "outputs": [],
   "source": [
    "import numpy as np\n",
    "import numpy.linalg as la\n",
    "import pandas as pd\n",
    "from scipy import stats\n",
    "import matplotlib.pyplot as plt\n",
    "from scipy.stats import ttest_rel,ttest_ind"
   ]
  },
  {
   "cell_type": "code",
   "execution_count": 11,
   "metadata": {},
   "outputs": [],
   "source": [
    "def concat(a):\n",
    "    return np.concatenate(a.values)"
   ]
  },
  {
   "cell_type": "code",
   "execution_count": 12,
   "metadata": {},
   "outputs": [],
   "source": [
    "def estimation(df_sub):\n",
    "    x_train = concat(df_sub['x_1'])\n",
    "    A_train, tilde_A_train = concat(df_sub['A_minus1']), concat(df_sub['tilde_A_minus1'])\n",
    "    a_train, a_mix_train, a_diff_train = concat(df_sub['a_1']), concat(df_sub['a_mix_1']), concat(df_sub['a_diff_1'])\n",
    "\n",
    "    \n",
    "    A_train, tilde_A_train = A_train[x_train>0], tilde_A_train[x_train>0]\n",
    "    a_train, a_mix_train, a_diff_train = a_train[x_train>0], a_mix_train[x_train>0], a_diff_train[x_train>0]\n",
    "    x_train = x_train[x_train>0]\n",
    "\n",
    "    # OLS method\n",
    "    Z = np.zeros((len(x_train),2))\n",
    "    Z[:,0], Z[:,1] = m*x_train, tilde_A_train-tilde_A_train*A_train/m\n",
    "    beta = la.inv(Z.T @ Z) @ Z.T @ a_train\n",
    "    p_hat_OLS, q_hat_OLS = beta[0], beta[1]\n",
    "    \n",
    "    # D-OLS method\n",
    "    q_hat_D = np.sum(tilde_A_train*(1-x_train-A_train/m)*a_diff_train) / np.sum(tilde_A_train**2*(1-x_train-A_train/m)**2)\n",
    "    p_hat_D = np.sum(m*x_train*(a_mix_train-q_hat_D*tilde_A_train*x_train)) / np.sum(m**2*x_train**2)\n",
    "    \n",
    "    # BDM OLS method\n",
    "    Z = np.zeros((len(x_train),2))\n",
    "    Z[:,0], Z[:,1] = m-A_train, A_train-A_train**2/m\n",
    "    beta = la.inv(Z.T @ Z) @ Z.T @ a_train\n",
    "    p_hat_BDM, q_hat_BDM = beta[0], beta[1]\n",
    "    \n",
    "    return p_hat_OLS, q_hat_OLS, p_hat_D, q_hat_D, p_hat_BDM, q_hat_BDM"
   ]
  },
  {
   "cell_type": "code",
   "execution_count": 4,
   "metadata": {},
   "outputs": [],
   "source": [
    "def pred_sep(rec, p, q, cnt=0, bdm=False):\n",
    "    p_hat,q_hat = p,q\n",
    "    x_test = rec['x_1'][cnt:]\n",
    "    A_test = rec['A_minus1'][cnt:]\n",
    "    a_test = rec['a_1'][cnt:]\n",
    "    tilde_A_test = rec['tilde_A_minus1'][cnt:]\n",
    "    \n",
    "    A_test = A_test[x_test>0]\n",
    "    tilde_A_test = tilde_A_test[x_test>0]\n",
    "    a_test = a_test[x_test>0]\n",
    "    x_test = x_test[x_test>0]\n",
    "    \n",
    "    if bdm:\n",
    "        a_pred = (p_hat + q_hat*A_test)*(1-A_test/m)\n",
    "    else:\n",
    "        a_pred = p_hat*m*x_test + q_hat*tilde_A_test*(1-A_test/m)\n",
    "    \n",
    "    if np.sum(a_test)==0:\n",
    "        return 0\n",
    "    wMAPE = np.sum(np.abs(a_pred-a_test))/np.sum(a_test)\n",
    "    \n",
    "    return wMAPE"
   ]
  },
  {
   "cell_type": "code",
   "execution_count": 6,
   "metadata": {},
   "outputs": [],
   "source": [
    "m = 518646\n",
    "df = pd.read_csv('../log_data.csv')\n",
    "# uncovered dataset\n",
    "# columns\n",
    "# ========\n",
    "# photo_id: string, unique id for each video\n",
    "# cat: int, category id for each video\n",
    "# in_click_cnt: string, list of click numbers from promotion at each time period\n",
    "# im_click_cnt: string, list of click numbers without promotion at each time period\n",
    "# show_cnt: string, list of impression numbers at each time period"
   ]
  },
  {
   "cell_type": "code",
   "execution_count": 7,
   "metadata": {},
   "outputs": [],
   "source": [
    "# preprocessing\n",
    "# convert strings stored in the csv file to editable data\n",
    "a_mix = df['in_click_cnt'].apply(lambda x:np.array(list(map(int,x[1:-1].split()))))\n",
    "a_diff = df['im_click_cnt'].apply(lambda x:np.array(list(map(int,x[1:-1].split()))))\n",
    "x = df['show_cnt'].apply(lambda x:np.array(list(map(int,x[1:-1].split()))))/m\n",
    "df['a_mix'] = a_mix\n",
    "df['a_diff'] = a_diff"
   ]
  },
  {
   "cell_type": "code",
   "execution_count": 8,
   "metadata": {},
   "outputs": [],
   "source": [
    "# Calculate the adoption numbers and align the data used for estimation (i.e., a_t, x_t, A_{t-1})\n",
    "df['x'] = x\n",
    "df['a'] = df['a_mix'] + df['a_diff']\n",
    "df['A'] = df['a'].apply(lambda x:np.cumsum(x))\n",
    "df['A_minus1'] = df['A'].apply(lambda x:x[:-1])\n",
    "df['a_mix_1'] = df['a_mix'].apply(lambda x:x[1:])\n",
    "df['a_diff_1'] = df['a_diff'].apply(lambda x:x[1:])\n",
    "df['a_1'] = df['a'].apply(lambda x:x[1:])\n",
    "df['x_1'] = df['x'].apply(lambda x:x[1:])"
   ]
  },
  {
   "cell_type": "code",
   "execution_count": 9,
   "metadata": {},
   "outputs": [],
   "source": [
    "# Calculate the discounted accumulated adoption numbers\n",
    "gamma=0.983\n",
    "df['tilde_A_minus1'] = df['A_minus1'].apply(lambda x:x*gamma**np.arange(0,len(x),1))"
   ]
  },
  {
   "cell_type": "code",
   "execution_count": 13,
   "metadata": {},
   "outputs": [],
   "source": [
    "# Estimate the (p,q) value for all video categories with the first 60% data.\n",
    "a_cat = df['category'].unique()\n",
    "a_p_hat_BDM,a_q_hat_BDM = {},{}\n",
    "a_p_hat_OLS,a_q_hat_OLS = {},{}\n",
    "a_p_hat_D,a_q_hat_D = {},{}\n",
    "for cat in a_cat:\n",
    "    df_sub = df[(df['category']==cat)]\n",
    "    cnt = len(df_sub)\n",
    "    p_hat_OLS, q_hat_OLS, p_hat_D, q_hat_D, p_hat_BDM, q_hat_BDM = estimation(df_sub[:int(cnt*0.6)])\n",
    "    a_p_hat_BDM[cat], a_q_hat_BDM[cat] = p_hat_BDM, q_hat_BDM\n",
    "    a_p_hat_OLS[cat], a_q_hat_OLS[cat] = p_hat_OLS, q_hat_OLS\n",
    "    a_p_hat_D[cat], a_q_hat_D[cat] = p_hat_D, q_hat_D"
   ]
  },
  {
   "cell_type": "code",
   "execution_count": 20,
   "metadata": {},
   "outputs": [
    {
     "data": {
      "text/html": [
       "<div>\n",
       "<style scoped>\n",
       "    .dataframe tbody tr th:only-of-type {\n",
       "        vertical-align: middle;\n",
       "    }\n",
       "\n",
       "    .dataframe tbody tr th {\n",
       "        vertical-align: top;\n",
       "    }\n",
       "\n",
       "    .dataframe thead th {\n",
       "        text-align: right;\n",
       "    }\n",
       "</style>\n",
       "<table border=\"1\" class=\"dataframe\">\n",
       "  <thead>\n",
       "    <tr style=\"text-align: right;\">\n",
       "      <th></th>\n",
       "      <th>cat</th>\n",
       "      <th>p</th>\n",
       "      <th>q</th>\n",
       "      <th>cnt</th>\n",
       "    </tr>\n",
       "  </thead>\n",
       "  <tbody>\n",
       "    <tr>\n",
       "      <th>count</th>\n",
       "      <td>61.000000</td>\n",
       "      <td>61.000000</td>\n",
       "      <td>61.000000</td>\n",
       "      <td>61.000000</td>\n",
       "    </tr>\n",
       "    <tr>\n",
       "      <th>mean</th>\n",
       "      <td>3506.081967</td>\n",
       "      <td>0.156212</td>\n",
       "      <td>0.054701</td>\n",
       "      <td>761.377049</td>\n",
       "    </tr>\n",
       "    <tr>\n",
       "      <th>std</th>\n",
       "      <td>25675.249757</td>\n",
       "      <td>0.055458</td>\n",
       "      <td>0.022547</td>\n",
       "      <td>552.240351</td>\n",
       "    </tr>\n",
       "    <tr>\n",
       "      <th>min</th>\n",
       "      <td>1.000000</td>\n",
       "      <td>0.027626</td>\n",
       "      <td>0.028794</td>\n",
       "      <td>155.000000</td>\n",
       "    </tr>\n",
       "    <tr>\n",
       "      <th>25%</th>\n",
       "      <td>16.000000</td>\n",
       "      <td>0.122632</td>\n",
       "      <td>0.038928</td>\n",
       "      <td>360.000000</td>\n",
       "    </tr>\n",
       "    <tr>\n",
       "      <th>50%</th>\n",
       "      <td>123.000000</td>\n",
       "      <td>0.154874</td>\n",
       "      <td>0.049998</td>\n",
       "      <td>603.000000</td>\n",
       "    </tr>\n",
       "    <tr>\n",
       "      <th>75%</th>\n",
       "      <td>268.000000</td>\n",
       "      <td>0.188688</td>\n",
       "      <td>0.061145</td>\n",
       "      <td>1060.000000</td>\n",
       "    </tr>\n",
       "    <tr>\n",
       "      <th>max</th>\n",
       "      <td>200729.000000</td>\n",
       "      <td>0.325315</td>\n",
       "      <td>0.138308</td>\n",
       "      <td>2759.000000</td>\n",
       "    </tr>\n",
       "  </tbody>\n",
       "</table>\n",
       "</div>"
      ],
      "text/plain": [
       "                 cat          p          q          cnt\n",
       "count      61.000000  61.000000  61.000000    61.000000\n",
       "mean     3506.081967   0.156212   0.054701   761.377049\n",
       "std     25675.249757   0.055458   0.022547   552.240351\n",
       "min         1.000000   0.027626   0.028794   155.000000\n",
       "25%        16.000000   0.122632   0.038928   360.000000\n",
       "50%       123.000000   0.154874   0.049998   603.000000\n",
       "75%       268.000000   0.188688   0.061145  1060.000000\n",
       "max    200729.000000   0.325315   0.138308  2759.000000"
      ]
     },
     "execution_count": 20,
     "metadata": {},
     "output_type": "execute_result"
    }
   ],
   "source": [
    "df_pq = pd.DataFrame()\n",
    "df_pq['p'] = pd.Series(a_p_hat_D)\n",
    "df_pq['q'] = pd.Series(a_q_hat_D)\n",
    "df_pq['cnt'] = df.groupby('category').count()['a']\n",
    "df_pq = df_pq.reset_index()\n",
    "df_pq.columns = ['cat', 'p', 'q', 'cnt']\n",
    "df_pq.describe()"
   ]
  },
  {
   "cell_type": "code",
   "execution_count": 21,
   "metadata": {},
   "outputs": [
    {
     "data": {
      "text/plain": [
       "(-0.5335121673130394, -4.8451425702692, -1.6710930318274833)"
      ]
     },
     "execution_count": 21,
     "metadata": {},
     "output_type": "execute_result"
    }
   ],
   "source": [
    "# Calculate the correlation of (p,q) and conduct t test\n",
    "r = np.corrcoef(df_pq['p'],df_pq['q'])[0,1]\n",
    "n = df['category'].unique().shape[0]\n",
    "tt = r*np.sqrt((n-2)/(1-r**2))\n",
    "r,tt,stats.t.ppf(q=0.05, df=n-2)"
   ]
  },
  {
   "cell_type": "code",
   "execution_count": 22,
   "metadata": {},
   "outputs": [
    {
     "data": {
      "text/plain": [
       "Text(0, 0.5, 'diffusion coefficient $q$')"
      ]
     },
     "execution_count": 22,
     "metadata": {},
     "output_type": "execute_result"
    },
    {
     "data": {
      "image/png": "[encoded data removed]",
      "text/plain": [
       "<Figure size 432x288 with 1 Axes>"
      ]
     },
     "metadata": {
      "needs_background": "light"
     },
     "output_type": "display_data"
    }
   ],
   "source": [
    "plt.scatter(df_pq['p'],df_pq['q'],s=0.08*df_pq['cnt'],alpha=0.8,color='#5f97d2',edgecolor='white')\n",
    "plt.xlabel('Promotion coefficient $p$')\n",
    "plt.ylabel('Diffusion coefficient $q$')"
   ]
  }
 ],
 "metadata": {
  "kernelspec": {
   "display_name": "Python 3",
   "language": "python",
   "name": "python3"
  },
  "language_info": {
   "codemirror_mode": {
    "name": "ipython",
    "version": 3
   },
   "file_extension": ".py",
   "mimetype": "text/x-python",
   "name": "python",
   "nbconvert_exporter": "python",
   "pygments_lexer": "ipython3",
   "version": "3.7.6"
  }
 },
 "nbformat": 4,
 "nbformat_minor": 4
}
