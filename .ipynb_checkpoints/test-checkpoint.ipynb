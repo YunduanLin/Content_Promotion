{
 "cells": [
  {
   "cell_type": "code",
   "execution_count": 2,
   "metadata": {},
   "outputs": [],
   "source": [
    "import importlib\n",
    "import simplatform\n",
    "import CGPO"
   ]
  },
  {
   "cell_type": "code",
   "execution_count": 3,
   "metadata": {
    "scrolled": true
   },
   "outputs": [],
   "source": [
    "param = {'m':10000, 'K':50, 'cnt_new':5, 'gamma':0.983, 'file_pq':'../video_pq_gamma983.csv'}\n",
    "env = simplatform.platform(param)"
   ]
  },
  {
   "cell_type": "code",
   "execution_count": 5,
   "metadata": {},
   "outputs": [
    {
     "name": "stdout",
     "output_type": "stream",
     "text": [
      "Using license file /Users/linyunduan/gurobi.lic\n",
      "Academic license - for non-commercial use only\n",
      "Time 1: total adoption 4887\n",
      "Time 2: total adoption 9629\n",
      "Time 3: total adoption 14418\n",
      "Time 4: total adoption 19138\n",
      "Time 5: total adoption 23734\n",
      "Time 6: total adoption 28149\n",
      "Time 7: total adoption 32684\n",
      "Time 8: total adoption 37625\n",
      "Time 9: total adoption 42653\n",
      "Time 10: total adoption 48079\n"
     ]
    }
   ],
   "source": [
    "env.reset()\n",
    "env.initialize(50)\n",
    "param = {'L':1, 'C':2, 'T':10, 'm_new':50}\n",
    "env.sim_CGPO(param)"
   ]
  },
  {
   "cell_type": "code",
   "execution_count": null,
   "metadata": {},
   "outputs": [],
   "source": []
  }
 ],
 "metadata": {
  "kernelspec": {
   "display_name": "Python 3",
   "language": "python",
   "name": "python3"
  },
  "language_info": {
   "codemirror_mode": {
    "name": "ipython",
    "version": 3
   },
   "file_extension": ".py",
   "mimetype": "text/x-python",
   "name": "python",
   "nbconvert_exporter": "python",
   "pygments_lexer": "ipython3",
   "version": "3.7.6"
  }
 },
 "nbformat": 4,
 "nbformat_minor": 4
}
